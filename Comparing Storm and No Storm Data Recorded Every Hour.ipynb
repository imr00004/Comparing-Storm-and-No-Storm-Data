{
 "cells": [
  {
   "cell_type": "markdown",
   "id": "339ff2ba",
   "metadata": {},
   "source": [
    "## Comparing Storm and No Storm Data Recorded Every Hour"
   ]
  },
  {
   "cell_type": "markdown",
   "id": "1e186741",
   "metadata": {},
   "source": [
    "The two data sets below each contain data of solar storm events being measured every hour. The rows alternate between storm and no storm. Each column is a different hour. By is the component in the Y\n",
    "direction of the interplanetary magnetic field, and Bx is the X direction. Each data set has 16 storm and 16 non storm events. Each event has 89 observations "
   ]
  },
  {
   "cell_type": "code",
   "execution_count": 3,
   "id": "0f3ee369",
   "metadata": {},
   "outputs": [],
   "source": [
    "import seaborn as sns\n",
    "import numpy as np\n",
    "import pandas as pd\n",
    "import matplotlib.pyplot as plt"
   ]
  },
  {
   "cell_type": "code",
   "execution_count": 4,
   "id": "41d9a104",
   "metadata": {},
   "outputs": [],
   "source": [
    "by=pd.read_excel('/Users/isabellareeser/DSCI_222/data_By.xlsx', header=None)\n",
    "bx=pd.read_excel('/Users/isabellareeser/DSCI_222/data_Bx.xlsx', header=None)"
   ]
  },
  {
   "cell_type": "markdown",
   "id": "2ec054d3",
   "metadata": {},
   "source": [
    "Turning each file into an array, reshaping them, swapping the axes so that the storm and no storm data are separated in each, then concatenating both so that you can acces each set of data separately"
   ]
  },
  {
   "cell_type": "code",
   "execution_count": 5,
   "id": "ba6d2745",
   "metadata": {},
   "outputs": [],
   "source": [
    "by_arr=np.array(by)\n",
    "bx_arr=np.array(bx)\n",
    "\n",
    "by_new=by_arr.reshape(16,2,89)\n",
    "bx_new=bx_arr.reshape(16,2,89)\n",
    "\n",
    "By_new=by_new.swapaxes(0,1)\n",
    "Bx_new=bx_new.swapaxes(0,1)\n",
    "\n",
    "bybx=np.concatenate([By_new,Bx_new])"
   ]
  },
  {
   "cell_type": "markdown",
   "id": "c177269e",
   "metadata": {},
   "source": [
    "## Summary Statistics"
   ]
  },
  {
   "cell_type": "markdown",
   "id": "d7a76e78",
   "metadata": {},
   "source": [
    "Calculating mean for By and Bx alone:"
   ]
  },
  {
   "cell_type": "code",
   "execution_count": 6,
   "id": "b8ed86bb",
   "metadata": {},
   "outputs": [
    {
     "data": {
      "text/plain": [
       "-0.24296569873570908"
      ]
     },
     "execution_count": 6,
     "metadata": {},
     "output_type": "execute_result"
    }
   ],
   "source": [
    "np.mean(bybx[0])"
   ]
  },
  {
   "cell_type": "code",
   "execution_count": 7,
   "id": "050a01ac",
   "metadata": {},
   "outputs": [
    {
     "data": {
      "text/plain": [
       "0.09494044883254898"
      ]
     },
     "execution_count": 7,
     "metadata": {},
     "output_type": "execute_result"
    }
   ],
   "source": [
    "np.mean(bybx[1])"
   ]
  },
  {
   "cell_type": "code",
   "execution_count": 8,
   "id": "0b9a8179",
   "metadata": {},
   "outputs": [
    {
     "data": {
      "text/plain": [
       "0.26626320728766095"
      ]
     },
     "execution_count": 8,
     "metadata": {},
     "output_type": "execute_result"
    }
   ],
   "source": [
    "np.mean(bybx[2])"
   ]
  },
  {
   "cell_type": "code",
   "execution_count": 9,
   "id": "994d95db",
   "metadata": {},
   "outputs": [
    {
     "data": {
      "text/plain": [
       "0.2107301378471998"
      ]
     },
     "execution_count": 9,
     "metadata": {},
     "output_type": "execute_result"
    }
   ],
   "source": [
    "np.mean(bybx[3])"
   ]
  },
  {
   "cell_type": "markdown",
   "id": "cce6ec14",
   "metadata": {},
   "source": [
    "Calculating median for By and Bx alone:"
   ]
  },
  {
   "cell_type": "code",
   "execution_count": 10,
   "id": "30d1933e",
   "metadata": {},
   "outputs": [
    {
     "data": {
      "text/plain": [
       "-1.0539017857142854"
      ]
     },
     "execution_count": 10,
     "metadata": {},
     "output_type": "execute_result"
    }
   ],
   "source": [
    "np.median(bybx[0])"
   ]
  },
  {
   "cell_type": "code",
   "execution_count": 11,
   "id": "c7c3b9ea",
   "metadata": {},
   "outputs": [
    {
     "data": {
      "text/plain": [
       "0.41640178571428577"
      ]
     },
     "execution_count": 11,
     "metadata": {},
     "output_type": "execute_result"
    }
   ],
   "source": [
    "np.median(bybx[1])"
   ]
  },
  {
   "cell_type": "code",
   "execution_count": 12,
   "id": "0e8fe644",
   "metadata": {},
   "outputs": [
    {
     "data": {
      "text/plain": [
       "1.039240288220551"
      ]
     },
     "execution_count": 12,
     "metadata": {},
     "output_type": "execute_result"
    }
   ],
   "source": [
    "np.median(bybx[2])"
   ]
  },
  {
   "cell_type": "code",
   "execution_count": 13,
   "id": "01cee06d",
   "metadata": {},
   "outputs": [
    {
     "data": {
      "text/plain": [
       "0.06921475563909782"
      ]
     },
     "execution_count": 13,
     "metadata": {},
     "output_type": "execute_result"
    }
   ],
   "source": [
    "np.median(bybx[3])"
   ]
  },
  {
   "cell_type": "markdown",
   "id": "e0f4be43",
   "metadata": {},
   "source": [
    "Calculating standard deviation for By and Bx alone:"
   ]
  },
  {
   "cell_type": "code",
   "execution_count": 14,
   "id": "bc579b92",
   "metadata": {},
   "outputs": [
    {
     "data": {
      "text/plain": [
       "7.311413543155606"
      ]
     },
     "execution_count": 14,
     "metadata": {},
     "output_type": "execute_result"
    }
   ],
   "source": [
    "np.std(bybx[0])"
   ]
  },
  {
   "cell_type": "code",
   "execution_count": 15,
   "id": "f9c3f1dc",
   "metadata": {},
   "outputs": [
    {
     "data": {
      "text/plain": [
       "3.7323679884640906"
      ]
     },
     "execution_count": 15,
     "metadata": {},
     "output_type": "execute_result"
    }
   ],
   "source": [
    "np.std(bybx[1])"
   ]
  },
  {
   "cell_type": "code",
   "execution_count": 16,
   "id": "6af6c887",
   "metadata": {},
   "outputs": [
    {
     "data": {
      "text/plain": [
       "6.050970179315022"
      ]
     },
     "execution_count": 16,
     "metadata": {},
     "output_type": "execute_result"
    }
   ],
   "source": [
    "np.std(bybx[2])"
   ]
  },
  {
   "cell_type": "code",
   "execution_count": 17,
   "id": "4987c9e7",
   "metadata": {},
   "outputs": [
    {
     "data": {
      "text/plain": [
       "3.5254685399158707"
      ]
     },
     "execution_count": 17,
     "metadata": {},
     "output_type": "execute_result"
    }
   ],
   "source": [
    "np.std(bybx[3])"
   ]
  },
  {
   "cell_type": "markdown",
   "id": "8975c4c8",
   "metadata": {},
   "source": [
    "Calculating variance for By and Bx alone:"
   ]
  },
  {
   "cell_type": "code",
   "execution_count": 18,
   "id": "32d3c272",
   "metadata": {},
   "outputs": [
    {
     "data": {
      "text/plain": [
       "53.45676799903921"
      ]
     },
     "execution_count": 18,
     "metadata": {},
     "output_type": "execute_result"
    }
   ],
   "source": [
    "np.var(bybx[0])"
   ]
  },
  {
   "cell_type": "code",
   "execution_count": 19,
   "id": "facb2e64",
   "metadata": {},
   "outputs": [
    {
     "data": {
      "text/plain": [
       "13.93057080131148"
      ]
     },
     "execution_count": 19,
     "metadata": {},
     "output_type": "execute_result"
    }
   ],
   "source": [
    "np.var(bybx[1])"
   ]
  },
  {
   "cell_type": "code",
   "execution_count": 20,
   "id": "a16e3ada",
   "metadata": {},
   "outputs": [
    {
     "data": {
      "text/plain": [
       "36.61424011095966"
      ]
     },
     "execution_count": 20,
     "metadata": {},
     "output_type": "execute_result"
    }
   ],
   "source": [
    "np.var(bybx[2])"
   ]
  },
  {
   "cell_type": "code",
   "execution_count": 21,
   "id": "153324ac",
   "metadata": {},
   "outputs": [
    {
     "data": {
      "text/plain": [
       "12.42892842593654"
      ]
     },
     "execution_count": 21,
     "metadata": {},
     "output_type": "execute_result"
    }
   ],
   "source": [
    "np.var(bybx[3])"
   ]
  },
  {
   "cell_type": "markdown",
   "id": "382d2161",
   "metadata": {},
   "source": [
    "## Summary Statistics For By Vs. Bx"
   ]
  },
  {
   "cell_type": "markdown",
   "id": "f0ebaeef",
   "metadata": {},
   "source": [
    "### By Data\n",
    "| Storm | No Storm |\n",
    "| :- | -: |\n",
    "|Mean: -0.24296569873570908|Mean: 0.09494044883254898| \n",
    "|Median: -1.0539017857142854|Median: 0.41640178571428577| \n",
    "|Standard Dev: 7.311413543155606|Standard Dev: 3.73236798846409|\n",
    "|Variance: 53.45676799903921|Variance: 13.930570801311479|"
   ]
  },
  {
   "cell_type": "markdown",
   "id": "256c1172",
   "metadata": {},
   "source": [
    "Based on the data, the mean and median for no storm data is higher than storm data. The higher variance and standard deviation of the storm data versus the no storm data implies that storm data is more spread out from the mean than no storm."
   ]
  },
  {
   "cell_type": "markdown",
   "id": "b61e8251",
   "metadata": {},
   "source": [
    "### Bx Data\n",
    "| Storm | No Storm |\n",
    "| :- | -: |\n",
    "|Mean: 0.26626320728766095|Mean: 0.2107301378471998| \n",
    "|Median: 1.039240288220551|Median: 0.06921475563909782| \n",
    "|Standard Dev: 6.050970179315023|Standard Dev: 3.5254685399158707|\n",
    "|Variance: 36.61424011095968|Variance: 12.42892842593654|"
   ]
  },
  {
   "cell_type": "markdown",
   "id": "a5ceb162",
   "metadata": {},
   "source": [
    "Based on the data, the mean and median for storm data is higher than no storm data. The higher variance and standard deviation also lies under storm data meaning that storm data is more spread out from the mean than no storm data."
   ]
  },
  {
   "cell_type": "markdown",
   "id": "019ac6d2",
   "metadata": {},
   "source": [
    "To compare the two, no storm data has a higher mean and median for the Y direction of the interplanetary magnetic field, whereas storm data has a higher mean and median for the X direction of the interplanetary magnetic field. In both, the variance and standard deviation is higher for storm data. Therfore, both sets of storm data are more spread out from the mean than no storm."
   ]
  },
  {
   "cell_type": "markdown",
   "id": "a443a533",
   "metadata": {},
   "source": [
    "## Correlation and Plots"
   ]
  },
  {
   "cell_type": "markdown",
   "id": "0c8dd526",
   "metadata": {},
   "source": [
    "Calculating the correlation vales between By and Bx for storm and no storm"
   ]
  },
  {
   "cell_type": "code",
   "execution_count": 25,
   "id": "19472016",
   "metadata": {},
   "outputs": [],
   "source": [
    "def corr(arr1,arr2):\n",
    "    corrs=[]\n",
    "    for i in range(len(arr1)):\n",
    "        x=np.corrcoef(arr1[i],arr2[i])\n",
    "        corrs.append(x[0,1])\n",
    "    return corrs\n",
    "storm_corr=corr(bybx[0],bybx[1])\n",
    "nostorm_corr=corr(bybx[2],bybx[3])"
   ]
  },
  {
   "cell_type": "code",
   "execution_count": 26,
   "id": "bc498298",
   "metadata": {},
   "outputs": [
    {
     "data": {
      "text/plain": [
       "[0.052973167698514005,\n",
       " -0.11470072412005043,\n",
       " -0.3252285526998404,\n",
       " 0.0984294002945319,\n",
       " 0.06379039173894907,\n",
       " -0.19153678190068268,\n",
       " 0.15968060026576897,\n",
       " -0.07939428833495203,\n",
       " -0.11096394705548239,\n",
       " -0.22689989648215583,\n",
       " -0.21331404111496152,\n",
       " 0.10188783789780556,\n",
       " 0.12603247094325243,\n",
       " -0.12413627923211903,\n",
       " -0.40289682818687955,\n",
       " 0.31261636882708177]"
      ]
     },
     "execution_count": 26,
     "metadata": {},
     "output_type": "execute_result"
    }
   ],
   "source": [
    "storm_corr"
   ]
  },
  {
   "cell_type": "code",
   "execution_count": 28,
   "id": "c2d1d5a6",
   "metadata": {},
   "outputs": [
    {
     "data": {
      "text/plain": [
       "[0.3524347456359929,\n",
       " -0.3345004234069406,\n",
       " 0.18252137658983222,\n",
       " 0.4448687030718336,\n",
       " 0.229343054776337,\n",
       " 0.11354882921273944,\n",
       " 0.5390141124520641,\n",
       " -0.21349865301634918,\n",
       " 0.3857185956804766,\n",
       " 0.046541594138642846,\n",
       " 0.4266002932856023,\n",
       " -0.07013614109686911,\n",
       " 0.30280979226352345,\n",
       " 0.5286538543124858,\n",
       " 0.18141055921348886,\n",
       " -0.02541528484166085]"
      ]
     },
     "execution_count": 28,
     "metadata": {},
     "output_type": "execute_result"
    }
   ],
   "source": [
    "nostorm_corr"
   ]
  },
  {
   "cell_type": "markdown",
   "id": "0c653c3c",
   "metadata": {},
   "source": [
    "Plotting each set of correlation values in a histogram and kernel density plot"
   ]
  },
  {
   "cell_type": "code",
   "execution_count": 549,
   "id": "44fd9341",
   "metadata": {},
   "outputs": [
    {
     "data": {
      "text/plain": [
       "Text(0.5, 1.0, 'Correlation of By and Bx Storm Data')"
      ]
     },
     "execution_count": 549,
     "metadata": {},
     "output_type": "execute_result"
    },
    {
     "data": {
      "image/png": "[encoded data removed]",
      "text/plain": [
       "<Figure size 432x288 with 1 Axes>"
      ]
     },
     "metadata": {
      "needs_background": "light"
     },
     "output_type": "display_data"
    }
   ],
   "source": [
    "plt.hist(storm_corr, bins=int(16/2))\n",
    "plt.title(\"Correlation of By and Bx Storm Data\")"
   ]
  },
  {
   "cell_type": "code",
   "execution_count": 550,
   "id": "1c7fe18d",
   "metadata": {},
   "outputs": [
    {
     "data": {
      "text/plain": [
       "Text(0.5, 1.0, 'Correlation of By and Bx No Storm Data')"
      ]
     },
     "execution_count": 550,
     "metadata": {},
     "output_type": "execute_result"
    },
    {
     "data": {
      "image/png": "[encoded data removed]",
      "text/plain": [
       "<Figure size 432x288 with 1 Axes>"
      ]
     },
     "metadata": {
      "needs_background": "light"
     },
     "output_type": "display_data"
    }
   ],
   "source": [
    "plt.hist(nostorm_corr, bins=int(16/2))\n",
    "plt.title(\"Correlation of By and Bx No Storm Data\")"
   ]
  },
  {
   "cell_type": "code",
   "execution_count": 551,
   "id": "c70441fe",
   "metadata": {},
   "outputs": [
    {
     "data": {
      "text/plain": [
       "Text(0.5, 1.0, 'Kernel Density Estimate of By and Bx Storm Data')"
      ]
     },
     "execution_count": 551,
     "metadata": {},
     "output_type": "execute_result"
    },
    {
     "data": {
      "image/png": "[encoded data removed]",
      "text/plain": [
       "<Figure size 432x288 with 1 Axes>"
      ]
     },
     "metadata": {
      "needs_background": "light"
     },
     "output_type": "display_data"
    }
   ],
   "source": [
    "sns.kdeplot(storm_corr)\n",
    "plt.title(\"Kernel Density Estimate of By and Bx Storm Data\")"
   ]
  },
  {
   "cell_type": "code",
   "execution_count": 552,
   "id": "8bc2be90",
   "metadata": {},
   "outputs": [
    {
     "data": {
      "text/plain": [
       "Text(0.5, 1.0, 'Kernel Density Estimate of By and Bx No Storm Data')"
      ]
     },
     "execution_count": 552,
     "metadata": {},
     "output_type": "execute_result"
    },
    {
     "data": {
      "image/png": "[encoded data removed]",
      "text/plain": [
       "<Figure size 432x288 with 1 Axes>"
      ]
     },
     "metadata": {
      "needs_background": "light"
     },
     "output_type": "display_data"
    }
   ],
   "source": [
    "sns.kdeplot(nostorm_corr)\n",
    "plt.title(\"Kernel Density Estimate of By and Bx No Storm Data\")"
   ]
  },
  {
   "cell_type": "markdown",
   "id": "b613da83",
   "metadata": {},
   "source": [
    "Looking at the storm correlations, the empty spot in the histogram is shown by the dip in the curve in the kernel density plot. Looking at the no storm correlations, the histogram is more evenly distributed shown by the more normal curve in the kernel density plot"
   ]
  },
  {
   "cell_type": "markdown",
   "id": "8df8866a",
   "metadata": {},
   "source": [
    "Putting both storm and no storm correlations into one boxplot:"
   ]
  },
  {
   "cell_type": "code",
   "execution_count": 553,
   "id": "1b5afde2",
   "metadata": {},
   "outputs": [
    {
     "data": {
      "text/plain": [
       "{'whiskers': [<matplotlib.lines.Line2D at 0x7fb4bce667c0>,\n",
       "  <matplotlib.lines.Line2D at 0x7fb4bce66940>,\n",
       "  <matplotlib.lines.Line2D at 0x7fb4bce76a60>,\n",
       "  <matplotlib.lines.Line2D at 0x7fb4bce76d30>],\n",
       " 'caps': [<matplotlib.lines.Line2D at 0x7fb4bce66c10>,\n",
       "  <matplotlib.lines.Line2D at 0x7fb4bce66ee0>,\n",
       "  <matplotlib.lines.Line2D at 0x7fb4bce83040>,\n",
       "  <matplotlib.lines.Line2D at 0x7fb4bce83310>],\n",
       " 'boxes': [<matplotlib.lines.Line2D at 0x7fb4bce66550>,\n",
       "  <matplotlib.lines.Line2D at 0x7fb4bce76790>],\n",
       " 'medians': [<matplotlib.lines.Line2D at 0x7fb4bce761f0>,\n",
       "  <matplotlib.lines.Line2D at 0x7fb4bce835e0>],\n",
       " 'fliers': [<matplotlib.lines.Line2D at 0x7fb4bce764c0>,\n",
       "  <matplotlib.lines.Line2D at 0x7fb4bce838b0>],\n",
       " 'means': []}"
      ]
     },
     "execution_count": 553,
     "metadata": {},
     "output_type": "execute_result"
    },
    {
     "data": {
      "image/png": "[encoded data removed]",
      "text/plain": [
       "<Figure size 432x288 with 1 Axes>"
      ]
     },
     "metadata": {
      "needs_background": "light"
     },
     "output_type": "display_data"
    }
   ],
   "source": [
    "data=[storm_corr, nostorm_corr]\n",
    "plt.boxplot(data)"
   ]
  },
  {
   "cell_type": "markdown",
   "id": "68f3cd21",
   "metadata": {},
   "source": [
    "The interquartile range for the no storm correlations is more equally distributed than storm correlations. Therefore, the data for the storm correlations is more spread out than the data for the no storm correlations."
   ]
  },
  {
   "cell_type": "markdown",
   "id": "5e27aaa1",
   "metadata": {},
   "source": [
    "## Only Data from the Start to Hour 44"
   ]
  },
  {
   "cell_type": "code",
   "execution_count": 29,
   "id": "50ab183f",
   "metadata": {},
   "outputs": [],
   "source": [
    "by_stormarr=bybx[0]\n",
    "by_storm=by_stormarr[:,:43]\n",
    "\n",
    "by_nostormarr=bybx[1]\n",
    "by_nostorm=by_nostormarr[:,:43]"
   ]
  },
  {
   "cell_type": "code",
   "execution_count": 30,
   "id": "303a741a",
   "metadata": {},
   "outputs": [],
   "source": [
    "bx_stormarr=bybx[2]\n",
    "bx_storm=bx_stormarr[:,:43]\n",
    "\n",
    "bx_nostormarr=bybx[3]\n",
    "bx_nostorm=bx_nostormarr[:,:43]"
   ]
  },
  {
   "cell_type": "markdown",
   "id": "c38e728f",
   "metadata": {},
   "source": [
    "Calculating mean for By and Bx alone:"
   ]
  },
  {
   "cell_type": "code",
   "execution_count": 558,
   "id": "3db2d552",
   "metadata": {},
   "outputs": [
    {
     "data": {
      "text/plain": [
       "-1.0858824442410413"
      ]
     },
     "execution_count": 558,
     "metadata": {},
     "output_type": "execute_result"
    }
   ],
   "source": [
    "np.mean(by_storm)"
   ]
  },
  {
   "cell_type": "code",
   "execution_count": 559,
   "id": "b32fdb3e",
   "metadata": {},
   "outputs": [
    {
     "data": {
      "text/plain": [
       "-0.08531912721483947"
      ]
     },
     "execution_count": 559,
     "metadata": {},
     "output_type": "execute_result"
    }
   ],
   "source": [
    "np.mean(by_nostorm)"
   ]
  },
  {
   "cell_type": "code",
   "execution_count": 560,
   "id": "d349991a",
   "metadata": {},
   "outputs": [
    {
     "data": {
      "text/plain": [
       "1.5011136208797233"
      ]
     },
     "execution_count": 560,
     "metadata": {},
     "output_type": "execute_result"
    }
   ],
   "source": [
    "np.mean(bx_storm)"
   ]
  },
  {
   "cell_type": "code",
   "execution_count": 561,
   "id": "9b2182da",
   "metadata": {},
   "outputs": [
    {
     "data": {
      "text/plain": [
       "0.9777470001311417"
      ]
     },
     "execution_count": 561,
     "metadata": {},
     "output_type": "execute_result"
    }
   ],
   "source": [
    "np.mean(bx_nostorm)"
   ]
  },
  {
   "cell_type": "markdown",
   "id": "2e95b902",
   "metadata": {},
   "source": [
    "Calculating median for By and Bx alone:"
   ]
  },
  {
   "cell_type": "code",
   "execution_count": 562,
   "id": "9641f772",
   "metadata": {},
   "outputs": [
    {
     "data": {
      "text/plain": [
       "-1.3547321428571428"
      ]
     },
     "execution_count": 562,
     "metadata": {},
     "output_type": "execute_result"
    }
   ],
   "source": [
    "np.median(by_storm)"
   ]
  },
  {
   "cell_type": "code",
   "execution_count": 563,
   "id": "27f27212",
   "metadata": {},
   "outputs": [
    {
     "data": {
      "text/plain": [
       "0.26352678571428567"
      ]
     },
     "execution_count": 563,
     "metadata": {},
     "output_type": "execute_result"
    }
   ],
   "source": [
    "np.median(by_nostorm)"
   ]
  },
  {
   "cell_type": "code",
   "execution_count": 564,
   "id": "f5c9ad7f",
   "metadata": {},
   "outputs": [
    {
     "data": {
      "text/plain": [
       "2.3087946428571433"
      ]
     },
     "execution_count": 564,
     "metadata": {},
     "output_type": "execute_result"
    }
   ],
   "source": [
    "np.median(bx_storm)"
   ]
  },
  {
   "cell_type": "code",
   "execution_count": 565,
   "id": "fb56dfbc",
   "metadata": {},
   "outputs": [
    {
     "data": {
      "text/plain": [
       "1.1299107142857143"
      ]
     },
     "execution_count": 565,
     "metadata": {},
     "output_type": "execute_result"
    }
   ],
   "source": [
    "np.median(bx_nostorm)"
   ]
  },
  {
   "cell_type": "markdown",
   "id": "23d5c6e5",
   "metadata": {},
   "source": [
    "Calculating standard deviation for By and Bx alone:"
   ]
  },
  {
   "cell_type": "code",
   "execution_count": 566,
   "id": "8d97d492",
   "metadata": {},
   "outputs": [
    {
     "data": {
      "text/plain": [
       "2.6042939510536156"
      ]
     },
     "execution_count": 566,
     "metadata": {},
     "output_type": "execute_result"
    }
   ],
   "source": [
    "np.std(by_storm)"
   ]
  },
  {
   "cell_type": "code",
   "execution_count": 567,
   "id": "57f951ab",
   "metadata": {},
   "outputs": [
    {
     "data": {
      "text/plain": [
       "3.7664308351186335"
      ]
     },
     "execution_count": 567,
     "metadata": {},
     "output_type": "execute_result"
    }
   ],
   "source": [
    "np.std(by_nostorm)"
   ]
  },
  {
   "cell_type": "code",
   "execution_count": 568,
   "id": "ade5c035",
   "metadata": {},
   "outputs": [
    {
     "data": {
      "text/plain": [
       "3.4718561382525155"
      ]
     },
     "execution_count": 568,
     "metadata": {},
     "output_type": "execute_result"
    }
   ],
   "source": [
    "np.std(bx_storm)"
   ]
  },
  {
   "cell_type": "code",
   "execution_count": 569,
   "id": "0731aa6e",
   "metadata": {},
   "outputs": [
    {
     "data": {
      "text/plain": [
       "3.577174691999427"
      ]
     },
     "execution_count": 569,
     "metadata": {},
     "output_type": "execute_result"
    }
   ],
   "source": [
    "np.std(bx_nostorm)"
   ]
  },
  {
   "cell_type": "markdown",
   "id": "164e7c89",
   "metadata": {},
   "source": [
    "Calculating variance for By and Bx alone:"
   ]
  },
  {
   "cell_type": "code",
   "execution_count": 570,
   "id": "17e59c5a",
   "metadata": {},
   "outputs": [
    {
     "data": {
      "text/plain": [
       "6.782346983494452"
      ]
     },
     "execution_count": 570,
     "metadata": {},
     "output_type": "execute_result"
    }
   ],
   "source": [
    "np.var(by_storm)"
   ]
  },
  {
   "cell_type": "code",
   "execution_count": 571,
   "id": "53a3482e",
   "metadata": {},
   "outputs": [
    {
     "data": {
      "text/plain": [
       "14.186001235732446"
      ]
     },
     "execution_count": 571,
     "metadata": {},
     "output_type": "execute_result"
    }
   ],
   "source": [
    "np.var(by_nostorm)"
   ]
  },
  {
   "cell_type": "code",
   "execution_count": 572,
   "id": "3d533dd1",
   "metadata": {},
   "outputs": [
    {
     "data": {
      "text/plain": [
       "12.053785044721671"
      ]
     },
     "execution_count": 572,
     "metadata": {},
     "output_type": "execute_result"
    }
   ],
   "source": [
    "np.var(bx_storm)"
   ]
  },
  {
   "cell_type": "code",
   "execution_count": 573,
   "id": "0021634f",
   "metadata": {},
   "outputs": [
    {
     "data": {
      "text/plain": [
       "12.796178777081195"
      ]
     },
     "execution_count": 573,
     "metadata": {},
     "output_type": "execute_result"
    }
   ],
   "source": [
    "np.var(bx_nostorm)"
   ]
  },
  {
   "cell_type": "markdown",
   "id": "4f07ca92",
   "metadata": {},
   "source": [
    "### By Data to Hour 44\n",
    "| Storm | No Storm |\n",
    "| :- | -: |\n",
    "|Mean: -1.0858824442410413|Mean: -0.08531912721483947| \n",
    "|Median: -1.3547321428571428|Median: 0.26352678571428567| \n",
    "|Standard Dev: 2.6042939510536156|Standard Dev: 3.7664308351186335|\n",
    "|Variance: 6.782346983494452|Variance: 14.186001235732446|"
   ]
  },
  {
   "cell_type": "markdown",
   "id": "611184ff",
   "metadata": {},
   "source": [
    "### Bx Data to Hour 44\n",
    "| Storm | No Storm |\n",
    "| :- | -: |\n",
    "|Mean: 1.5011136208797233|Mean: 0.9777470001311417| \n",
    "|Median: 2.3087946428571433|Median: 1.1299107142857143| \n",
    "|Standard Dev: 3.4718561382525155|Standard Dev: 3.577174691999427|\n",
    "|Variance: 12.053785044721671|Variance: 12.796178777081195|"
   ]
  },
  {
   "cell_type": "code",
   "execution_count": 31,
   "id": "1c0d296d",
   "metadata": {},
   "outputs": [],
   "source": [
    "def corr(arr1,arr2):\n",
    "    corrs=[]\n",
    "    for i in range(len(arr1)):\n",
    "        x=np.corrcoef(arr1[i],arr2[i])\n",
    "        corrs.append(x[0,1])\n",
    "    return corrs\n",
    "storm_corr_f=corr(by_storm,bx_storm)\n",
    "nostorm_corr_f=corr(by_nostorm,bx_nostorm)"
   ]
  },
  {
   "cell_type": "code",
   "execution_count": 32,
   "id": "343626c5",
   "metadata": {},
   "outputs": [
    {
     "data": {
      "text/plain": [
       "[-0.35660180577336986,\n",
       " -0.3731700695329083,\n",
       " 0.5922390488229322,\n",
       " 0.5825978238673629,\n",
       " 0.04935784311345207,\n",
       " 0.18026603888712878,\n",
       " -0.6435412824662173,\n",
       " 0.08836597953041078,\n",
       " -0.7012594086258518,\n",
       " 0.5901092272185507,\n",
       " 0.16689437902137835,\n",
       " -0.5058654070086616,\n",
       " 0.22191414307742596,\n",
       " -0.44061102426681886,\n",
       " 0.014925728851330393,\n",
       " 0.07102362937484223]"
      ]
     },
     "execution_count": 32,
     "metadata": {},
     "output_type": "execute_result"
    }
   ],
   "source": [
    "storm_corr_f"
   ]
  },
  {
   "cell_type": "code",
   "execution_count": 33,
   "id": "38ea2111",
   "metadata": {},
   "outputs": [
    {
     "data": {
      "text/plain": [
       "[-0.3540557805863158,\n",
       " -0.795100546705461,\n",
       " 0.2292575862997492,\n",
       " -0.3311780632928261,\n",
       " 0.5883002157051396,\n",
       " -0.3473309711586561,\n",
       " -0.43792853133915854,\n",
       " 0.12684523690086638,\n",
       " 0.2656819677332185,\n",
       " -0.05706622805134835,\n",
       " 0.7894784599073433,\n",
       " -0.5976777765493797,\n",
       " 0.8641879829789145,\n",
       " -0.525615293704208,\n",
       " 0.313048600654473,\n",
       " 0.5074171375290578]"
      ]
     },
     "execution_count": 33,
     "metadata": {},
     "output_type": "execute_result"
    }
   ],
   "source": [
    "nostorm_corr_f"
   ]
  },
  {
   "cell_type": "code",
   "execution_count": 575,
   "id": "7189a531",
   "metadata": {},
   "outputs": [
    {
     "data": {
      "text/plain": [
       "Text(0.5, 1.0, 'Correlation of By and Bx Storm Data')"
      ]
     },
     "execution_count": 575,
     "metadata": {},
     "output_type": "execute_result"
    },
    {
     "data": {
      "image/png": "[encoded data removed]",
      "text/plain": [
       "<Figure size 432x288 with 1 Axes>"
      ]
     },
     "metadata": {
      "needs_background": "light"
     },
     "output_type": "display_data"
    }
   ],
   "source": [
    "plt.hist(storm_corr_f, bins=int(16/2))\n",
    "plt.title(\"Correlation of By and Bx Storm Data\")"
   ]
  },
  {
   "cell_type": "code",
   "execution_count": 576,
   "id": "3cc2a426",
   "metadata": {},
   "outputs": [
    {
     "data": {
      "text/plain": [
       "Text(0.5, 1.0, 'Correlation of By and Bx Storm Data')"
      ]
     },
     "execution_count": 576,
     "metadata": {},
     "output_type": "execute_result"
    },
    {
     "data": {
      "image/png": "[encoded data removed]",
      "text/plain": [
       "<Figure size 432x288 with 1 Axes>"
      ]
     },
     "metadata": {
      "needs_background": "light"
     },
     "output_type": "display_data"
    }
   ],
   "source": [
    "plt.hist(nostorm_corr_f, bins=int(16/2))\n",
    "plt.title(\"Correlation of By and Bx Storm Data\")"
   ]
  },
  {
   "cell_type": "code",
   "execution_count": 577,
   "id": "cfa764ff",
   "metadata": {},
   "outputs": [
    {
     "data": {
      "text/plain": [
       "Text(0.5, 1.0, 'Kernel Density Estimate of By and Bx Storm Data')"
      ]
     },
     "execution_count": 577,
     "metadata": {},
     "output_type": "execute_result"
    },
    {
     "data": {
      "image/png": "[encoded data removed]",
      "text/plain": [
       "<Figure size 432x288 with 1 Axes>"
      ]
     },
     "metadata": {
      "needs_background": "light"
     },
     "output_type": "display_data"
    }
   ],
   "source": [
    "sns.kdeplot(storm_corr_f)\n",
    "plt.title(\"Kernel Density Estimate of By and Bx Storm Data\")"
   ]
  },
  {
   "cell_type": "code",
   "execution_count": 578,
   "id": "03851982",
   "metadata": {},
   "outputs": [
    {
     "data": {
      "text/plain": [
       "Text(0.5, 1.0, 'Kernel Density Estimate of By and Bx Storm Data')"
      ]
     },
     "execution_count": 578,
     "metadata": {},
     "output_type": "execute_result"
    },
    {
     "data": {
      "image/png": "[encoded data removed]",
      "text/plain": [
       "<Figure size 432x288 with 1 Axes>"
      ]
     },
     "metadata": {
      "needs_background": "light"
     },
     "output_type": "display_data"
    }
   ],
   "source": [
    "sns.kdeplot(nostorm_corr_f)\n",
    "plt.title(\"Kernel Density Estimate of By and Bx Storm Data\")"
   ]
  },
  {
   "cell_type": "code",
   "execution_count": 579,
   "id": "b06dd2aa",
   "metadata": {},
   "outputs": [
    {
     "data": {
      "text/plain": [
       "{'whiskers': [<matplotlib.lines.Line2D at 0x7fb4cd506f40>,\n",
       "  <matplotlib.lines.Line2D at 0x7fb4cd516250>,\n",
       "  <matplotlib.lines.Line2D at 0x7fb4cd524370>,\n",
       "  <matplotlib.lines.Line2D at 0x7fb4cd524640>],\n",
       " 'caps': [<matplotlib.lines.Line2D at 0x7fb4cd516520>,\n",
       "  <matplotlib.lines.Line2D at 0x7fb4cd5167f0>,\n",
       "  <matplotlib.lines.Line2D at 0x7fb4cd524910>,\n",
       "  <matplotlib.lines.Line2D at 0x7fb4cd524be0>],\n",
       " 'boxes': [<matplotlib.lines.Line2D at 0x7fb4cd506c70>,\n",
       "  <matplotlib.lines.Line2D at 0x7fb4cd5240a0>],\n",
       " 'medians': [<matplotlib.lines.Line2D at 0x7fb4cd516ac0>,\n",
       "  <matplotlib.lines.Line2D at 0x7fb4cd524eb0>],\n",
       " 'fliers': [<matplotlib.lines.Line2D at 0x7fb4cd516d90>,\n",
       "  <matplotlib.lines.Line2D at 0x7fb4cd6431c0>],\n",
       " 'means': []}"
      ]
     },
     "execution_count": 579,
     "metadata": {},
     "output_type": "execute_result"
    },
    {
     "data": {
      "image/png": "[encoded data removed]",
      "text/plain": [
       "<Figure size 432x288 with 1 Axes>"
      ]
     },
     "metadata": {
      "needs_background": "light"
     },
     "output_type": "display_data"
    }
   ],
   "source": [
    "data=[storm_corr_f, nostorm_corr_f]\n",
    "plt.boxplot(data)"
   ]
  },
  {
   "cell_type": "markdown",
   "id": "c6981cdd",
   "metadata": {},
   "source": [
    "1 is storm and 2 is no storm"
   ]
  },
  {
   "cell_type": "markdown",
   "id": "0b6c8e82",
   "metadata": {},
   "source": [
    "Even when we only look at the data until hour 44, we get very similar results and can make the same conclusions. The one difference though is that the kernel density plot for no storm correlations now also has a dip in it. However, the one for storm correlations still has a greater dip and is overall still more spread out from the mean"
   ]
  },
  {
   "cell_type": "markdown",
   "id": "91576d45",
   "metadata": {},
   "source": [
    "## Conclusion"
   ]
  },
  {
   "cell_type": "markdown",
   "id": "c61de412",
   "metadata": {},
   "source": [
    "Overall, the storm data showed to be more spread out from the mean while the no storm data showed to be more evenly distributed."
   ]
  }
 ],
 "metadata": {
  "kernelspec": {
   "display_name": "Python 3 (ipykernel)",
   "language": "python",
   "name": "python3"
  },
  "language_info": {
   "codemirror_mode": {
    "name": "ipython",
    "version": 3
   },
   "file_extension": ".py",
   "mimetype": "text/x-python",
   "name": "python",
   "nbconvert_exporter": "python",
   "pygments_lexer": "ipython3",
   "version": "3.9.12"
  }
 },
 "nbformat": 4,
 "nbformat_minor": 5
}
